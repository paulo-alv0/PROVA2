{
 "cells": [
  {
   "cell_type": "code",
   "execution_count": 61,
   "id": "c2e92f2d-76de-471b-b0df-6db87f1f9338",
   "metadata": {},
   "outputs": [],
   "source": [
    "lista = [ 50, 45, 55, 60, 48, 52, 47, 49, 53, 51, 50, 46, 54, 61, 49, 53, 48, 50, 52, 47, 56, 50, 55, 60, 48, 52, 47, 49, 53, 51 ]"
   ]
  },
  {
   "cell_type": "code",
   "execution_count": 63,
   "id": "6c4606fc-0135-4d6d-8c25-d6e7d9d953f3",
   "metadata": {},
   "outputs": [],
   "source": [
    "def consumo(lista):\n",
    "    soma = 0\n",
    "    contagem = 0\n",
    "    for valor in lista:\n",
    "        soma += valor\n",
    "        contagem += 1\n",
    "    media = soma / contagem\n",
    "    return media"
   ]
  },
  {
   "cell_type": "code",
   "execution_count": 65,
   "id": "d0dda60b-0681-43aa-8eb9-bd1c403e5537",
   "metadata": {},
   "outputs": [
    {
     "name": "stdout",
     "output_type": "stream",
     "text": [
      "O consumo diário médio foi: 51.36666666666667\n"
     ]
    }
   ],
   "source": [
    "print(f\"O consumo diário médio foi: {consumo(lista)}\")"
   ]
  },
  {
   "cell_type": "code",
   "execution_count": null,
   "id": "d1e374ff-27c3-4ae0-a4c3-1b2c0e3136ad",
   "metadata": {},
   "outputs": [],
   "source": [
    "# era pra dar 51.4333333, por algum motivo nao foi, mas eu fiz."
   ]
  },
  {
   "cell_type": "code",
   "execution_count": null,
   "id": "eb38683d-75a0-4af3-af9c-483431d6b9f2",
   "metadata": {},
   "outputs": [],
   "source": []
  }
 ],
 "metadata": {
  "kernelspec": {
   "display_name": "Python [conda env:base] *",
   "language": "python",
   "name": "conda-base-py"
  },
  "language_info": {
   "codemirror_mode": {
    "name": "ipython",
    "version": 3
   },
   "file_extension": ".py",
   "mimetype": "text/x-python",
   "name": "python",
   "nbconvert_exporter": "python",
   "pygments_lexer": "ipython3",
   "version": "3.12.7"
  }
 },
 "nbformat": 4,
 "nbformat_minor": 5
}
